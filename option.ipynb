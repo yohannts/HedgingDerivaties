{
 "cells": [
  {
   "cell_type": "code",
   "execution_count": 2,
   "metadata": {},
   "outputs": [],
   "source": [
    "import matplotlib.pyplot as plt\n",
    "import numpy as np\n",
    "from numpy import random\n",
    "import pandas as pd\n",
    "import scipy.stats as sp\n",
    "from typing import *"
   ]
  },
  {
   "cell_type": "markdown",
   "metadata": {},
   "source": [
    "# Option\n",
    "\n",
    "This module aims to return the payoff of the three priced option: Basket, Asian and Performance. This is computed by a function:\n",
    "$$\\varphi(S_{t_0}, S_{t_1}, ..., S_{t_N})$$ \n",
    "with $ 0 < t_1 < t_2 < ...< t_N = T $ evenly spaced date.\n",
    "\n",
    "## Option type\n",
    "\n",
    "### Basket Option\n",
    "The payoff is given by:\n",
    "$$(\\sum_{d=1}^D\\lambda_d S_{T, d} - K)_+$$\n",
    "\n",
    "### Asian Option (Discrete) \n",
    "The payoff is given by:\n",
    "$$(\\sum_{d=1}^D\\lambda_d \\frac{1}{N+1} \\sum_{i=0}^N S_{t_i, d} - K)_+$$\n",
    "\n",
    "### Performance Option\n",
    "The payoff is given by:\n",
    "$$1 + \\sum_{i=1}^N( \\frac{\\sum_{d=1}^D \\lambda_d S_{t_i , d}}{\\sum_{d=1}^D \\lambda_d S_{t_{i-1} , d}})_+$$"
   ]
  },
  {
   "cell_type": "code",
   "execution_count": 3,
   "metadata": {},
   "outputs": [],
   "source": [
    "from abc import abstractmethod, abstractproperty\n",
    "\n",
    "\n",
    "class Option:\n",
    "    \"\"\"\n",
    "    Abstract class for an Option, will be extended by \n",
    "    a class per type of option\n",
    "    \"\"\"\n",
    "    @abstractproperty\n",
    "    def maturity(self):\n",
    "        pass\n",
    "\n",
    "    @abstractproperty\n",
    "    def payoff_coef(self):\n",
    "        pass\n",
    "\n",
    "    @abstractproperty\n",
    "    def time_step(self):\n",
    "        pass\n",
    "    \n",
    "    @abstractproperty\n",
    "    def size(self):\n",
    "        pass\n",
    "\n",
    "    @abstractproperty\n",
    "    def strike(self):\n",
    "        pass\n",
    "    \n",
    "    @abstractmethod\n",
    "    def payoff(self, assets: np.array):\n",
    "        pass"
   ]
  },
  {
   "cell_type": "markdown",
   "metadata": {},
   "source": [
    "## Basket Option\n",
    "\n",
    "The payoff is given by:\n",
    "$$(\\sum_{d=1}^D\\lambda_d S_{T, d} - K)_+$$"
   ]
  },
  {
   "cell_type": "code",
   "execution_count": null,
   "metadata": {},
   "outputs": [],
   "source": [
    "class Basket_option(Option):\n",
    "    def __init__(self, maturity, payoff_coef, time_step, size, strike):\n",
    "        self.maturity = maturity\n",
    "        self.payoff_coef = payoff_coef\n",
    "        self.size = size\n",
    "        self.strike = strike\n",
    "        self.time_step = time_step\n",
    "        \n",
    "    def payoff(self, assets: np.array):\n",
    "        result = 0\n",
    "        for d in range(0, self.size):\n",
    "            result += self.payoff_coef[d]* assets[self.maturity, d]\n",
    "        return max(result - self.strike, 0)"
   ]
  }
 ],
 "metadata": {
  "kernelspec": {
   "display_name": "Python 3.10.1 64-bit",
   "language": "python",
   "name": "python3"
  },
  "language_info": {
   "codemirror_mode": {
    "name": "ipython",
    "version": 3
   },
   "file_extension": ".py",
   "mimetype": "text/x-python",
   "name": "python",
   "nbconvert_exporter": "python",
   "pygments_lexer": "ipython3",
   "version": "3.10.1"
  },
  "orig_nbformat": 4,
  "vscode": {
   "interpreter": {
    "hash": "44a9cdcbdccbf05a880e90d2e6fe72470baab4d1b82472d890be0596ed887a6b"
   }
  }
 },
 "nbformat": 4,
 "nbformat_minor": 2
}
