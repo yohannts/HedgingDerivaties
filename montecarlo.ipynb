{
 "cells": [
  {
   "cell_type": "code",
   "execution_count": null,
   "metadata": {},
   "outputs": [],
   "source": []
  },
  {
   "cell_type": "markdown",
   "metadata": {},
   "source": [
    "# Pricing with Monte Carlo\n",
    "\n",
    "We price in this module an option based on the simulated market.\n",
    "\n",
    "We wants here:\n",
    "$$v(t, S_{t_0}, S_{t_1}, ... , S_{t}) = e^{-r(T-t)}\\mathbb{E} (\\varphi(S_{t_0}, S_{t_1}, ..., S_{t_N})| \\mathscr{F}_t)$$"
   ]
  }
 ],
 "metadata": {
  "kernelspec": {
   "display_name": "Python 3.10.1 64-bit",
   "language": "python",
   "name": "python3"
  },
  "language_info": {
   "name": "python",
   "version": "3.10.1"
  },
  "orig_nbformat": 4,
  "vscode": {
   "interpreter": {
    "hash": "44a9cdcbdccbf05a880e90d2e6fe72470baab4d1b82472d890be0596ed887a6b"
   }
  }
 },
 "nbformat": 4,
 "nbformat_minor": 2
}
